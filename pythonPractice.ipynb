{
 "cells": [
  {
   "cell_type": "code",
   "execution_count": 1,
   "id": "67202ea8-36f9-4f53-9d76-af042de85004",
   "metadata": {},
   "outputs": [
    {
     "name": "stdout",
     "output_type": "stream",
     "text": [
      "Hello, world!\n"
     ]
    }
   ],
   "source": [
    "#first code\n",
    "print(\"Hello, world!\")"
   ]
  },
  {
   "cell_type": "code",
   "execution_count": 13,
   "id": "d14df29f-c8ac-4a1b-85b0-9b8a81a4f2db",
   "metadata": {},
   "outputs": [
    {
     "name": "stdout",
     "output_type": "stream",
     "text": [
      "5\n",
      "sumant\n"
     ]
    }
   ],
   "source": [
    "#variable\n",
    "x=5\n",
    "y=\"sumant\"\n",
    "print(x)\n",
    "print(y)"
   ]
  },
  {
   "cell_type": "code",
   "execution_count": 3,
   "id": "b1ae16d9-283b-4382-8da8-67fc7e9d5b20",
   "metadata": {},
   "outputs": [
    {
     "name": "stdout",
     "output_type": "stream",
     "text": [
      "3\n",
      "3\n",
      "3.0\n"
     ]
    }
   ],
   "source": [
    "#casting\n",
    "x=int(3)\n",
    "y=str(3)\n",
    "z=float(3)\n",
    "print(x)\n",
    "print(y)\n",
    "print(z)"
   ]
  },
  {
   "cell_type": "code",
   "execution_count": 4,
   "id": "628ee9b3-4649-4c2b-a27f-01c6886b4920",
   "metadata": {},
   "outputs": [
    {
     "name": "stdout",
     "output_type": "stream",
     "text": [
      "<class 'int'>\n",
      "<class 'str'>\n"
     ]
    }
   ],
   "source": [
    "#getting type\n",
    "x=5\n",
    "y=\"sumant\"\n",
    "print(type(x))\n",
    "print(type(y))"
   ]
  },
  {
   "cell_type": "code",
   "execution_count": 6,
   "id": "41b5856f-f8df-4f0b-8a2b-eefb55f5fafb",
   "metadata": {},
   "outputs": [
    {
     "name": "stdout",
     "output_type": "stream",
     "text": [
      "one\n",
      "two\n",
      "three\n"
     ]
    }
   ],
   "source": [
    "#multiple variable values\n",
    "x, y, z = \"one\", \"two\", \"three\"\n",
    "print(x)\n",
    "print(y)\n",
    "print(z)"
   ]
  },
  {
   "cell_type": "code",
   "execution_count": 10,
   "id": "f43a92a6-f9e8-4328-bc62-75f690f9c1d4",
   "metadata": {},
   "outputs": [
    {
     "name": "stdout",
     "output_type": "stream",
     "text": [
      "apple orange banana\n"
     ]
    }
   ],
   "source": [
    "#unpack a collection\n",
    "fruits = \"apple\", \"orange\", \"banana\"\n",
    "x, y, z = fruits\n",
    "print(x, y, z)"
   ]
  },
  {
   "cell_type": "code",
   "execution_count": 12,
   "id": "70c546d0-8776-4ed4-99cd-75e9314a68c4",
   "metadata": {},
   "outputs": [
    {
     "name": "stdout",
     "output_type": "stream",
     "text": [
      "python is awesome\n"
     ]
    }
   ],
   "source": [
    "#global variable\n",
    "x = \"awesome\"\n",
    "def myfunc():\n",
    "    print(\"python is \" + x)\n",
    "myfunc()"
   ]
  },
  {
   "cell_type": "code",
   "execution_count": null,
   "id": "61c591d0-04f2-45c3-bb47-aa2779a83291",
   "metadata": {},
   "outputs": [],
   "source": [
    "#global and local variable\n",
    "x = \"awesome\"\n",
    "def myfunc():\n",
    "    x = \"fantastic\"\n",
    "    print(\"python is \" + x)\n",
    "myfunc()\n",
    "print(\"pyhton is \" + x)"
   ]
  },
  {
   "cell_type": "code",
   "execution_count": 3,
   "id": "7194ec9a-9f72-46e4-8237-d48dd4ec0f76",
   "metadata": {},
   "outputs": [
    {
     "name": "stdout",
     "output_type": "stream",
     "text": [
      "8\n"
     ]
    }
   ],
   "source": [
    "#random number\n",
    "import random\n",
    "print(random.randrange(1,10))"
   ]
  },
  {
   "cell_type": "code",
   "execution_count": 4,
   "id": "a17593a4-5741-4caf-849f-510dab097395",
   "metadata": {},
   "outputs": [
    {
     "name": "stdout",
     "output_type": "stream",
     "text": [
      "e\n"
     ]
    }
   ],
   "source": [
    "#character position\n",
    "x= \"hello\"\n",
    "print(x[1])"
   ]
  },
  {
   "cell_type": "code",
   "execution_count": 6,
   "id": "e32a5a19-a93a-4507-b7d5-7a215e9cda2e",
   "metadata": {},
   "outputs": [
    {
     "name": "stdout",
     "output_type": "stream",
     "text": [
      "b\n",
      "a\n",
      "n\n",
      "a\n",
      "n\n",
      "a\n"
     ]
    }
   ],
   "source": [
    "for x in \"banana\":\n",
    "    print(x)"
   ]
  },
  {
   "cell_type": "code",
   "execution_count": 7,
   "id": "c0a0c255-0c84-4ff7-afb1-c3746e659296",
   "metadata": {},
   "outputs": [
    {
     "name": "stdout",
     "output_type": "stream",
     "text": [
      "11\n"
     ]
    }
   ],
   "source": [
    "x = \"hello world\"\n",
    "print(len(x))"
   ]
  },
  {
   "cell_type": "code",
   "execution_count": 8,
   "id": "233bc1c1-0bb2-4ae6-97d0-b633d3cd00d1",
   "metadata": {},
   "outputs": [
    {
     "name": "stdout",
     "output_type": "stream",
     "text": [
      "True\n"
     ]
    }
   ],
   "source": [
    "#checking word in a string\n",
    "txt = \"the best thing in world is free\"\n",
    "print(\"free\" in txt)"
   ]
  },
  {
   "cell_type": "code",
   "execution_count": 11,
   "id": "e90dcf1b-53c0-4fc5-9fd9-080b7bdfed8c",
   "metadata": {},
   "outputs": [
    {
     "name": "stdout",
     "output_type": "stream",
     "text": [
      "yes, free is present\n"
     ]
    }
   ],
   "source": [
    "#checking word in a string using if statement\n",
    "txt = \"the best thing in world is free\"\n",
    "if \"free\" in txt:\n",
    " print(\"yes, free is present\")"
   ]
  },
  {
   "cell_type": "code",
   "execution_count": 12,
   "id": "c8424ff8-bd21-43ad-a13c-4e01fe650804",
   "metadata": {},
   "outputs": [
    {
     "name": "stdout",
     "output_type": "stream",
     "text": [
      "ello\n"
     ]
    }
   ],
   "source": [
    "#slicing\n",
    "x= \"hello world\"\n",
    "print(x[1:5])"
   ]
  },
  {
   "cell_type": "code",
   "execution_count": 19,
   "id": "95198a66-7d2c-4538-ac52-131492338a42",
   "metadata": {},
   "outputs": [
    {
     "name": "stdout",
     "output_type": "stream",
     "text": [
      " HELLO WORLD!\n",
      " hello world!\n",
      "Hello World!\n",
      " Bello World!\n",
      "['Hello', 'World!']\n"
     ]
    }
   ],
   "source": [
    "#modifying strings\n",
    "a = \" Hello World!\"\n",
    "print(a.upper())\n",
    "print(a.lower())\n",
    "\n",
    "#removing white spaces from the begining\n",
    "print(a.strip())\n",
    "\n",
    "#replace a string\n",
    "print(a.replace(\"H\", \"B\"))\n",
    "\n",
    "#split strings\n",
    "print(a.split())"
   ]
  },
  {
   "cell_type": "code",
   "execution_count": 22,
   "id": "efa06bcf-81ee-492b-85b5-4b2eb820f950",
   "metadata": {},
   "outputs": [
    {
     "name": "stdout",
     "output_type": "stream",
     "text": [
      "hello world\n"
     ]
    }
   ],
   "source": [
    "#concatenation\n",
    "a = \"hello\"\n",
    "b = \"world\"\n",
    "c = a + \" \" + b\n",
    "print(c)"
   ]
  },
  {
   "cell_type": "code",
   "execution_count": 23,
   "id": "a41c132e-ea98-4463-83c4-dd7410342f99",
   "metadata": {},
   "outputs": [
    {
     "name": "stdout",
     "output_type": "stream",
     "text": [
      "my age is 22\n"
     ]
    }
   ],
   "source": [
    "#f-strings\n",
    "x= 22\n",
    "print(f\"my age is {x}\")"
   ]
  },
  {
   "cell_type": "code",
   "execution_count": 14,
   "id": "159ef9ff-fc4b-4629-8c18-69381864e332",
   "metadata": {},
   "outputs": [
    {
     "name": "stdout",
     "output_type": "stream",
     "text": [
      "apple\n",
      "strawberry\n",
      "['apple', 'banana']\n",
      "yes\n",
      "['apple', 'banana', 'orange', 'cherry', 'mango', 'strawberry']\n",
      "['apple', 'banana', 'orange', 'cherry', 'mango', 'strawberry', 'pineapple']\n",
      "['apple', 'banana', 'cherry', 'mango', 'strawberry', 'pineapple']\n",
      "['apple', 'banana', 'cherry', 'mango', 'strawberry']\n",
      "['banana', 'cherry', 'mango', 'strawberry']\n"
     ]
    }
   ],
   "source": [
    "#lists\n",
    "thislist = [\"apple\", \"banana\", \"cherry\", \"mango\", \"strawberry\"]\n",
    "\n",
    "print(thislist[0])\n",
    "print(thislist[-1])\n",
    "print(thislist[0:2])\n",
    "\n",
    "if \"apple\" in thislist:\n",
    "    print(\"yes\")\n",
    "\n",
    "thislist.insert(2,\"orange\")   \n",
    "print(thislist)\n",
    "\n",
    "thislist.append(\"pineapple\")\n",
    "print(thislist)\n",
    "\n",
    "thislist.remove(\"orange\")\n",
    "print(thislist)\n",
    "\n",
    "thislist.pop()\n",
    "print(thislist)\n",
    "\n",
    "del thislist[0]\n",
    "print(thislist)"
   ]
  },
  {
   "cell_type": "code",
   "execution_count": 21,
   "id": "8fc5018e-6c60-4232-8a39-b0cf9e7af878",
   "metadata": {},
   "outputs": [
    {
     "name": "stdout",
     "output_type": "stream",
     "text": [
      "apple\n",
      "banana\n",
      "cherry\n",
      "apple\n",
      "banana\n",
      "cherry\n"
     ]
    }
   ],
   "source": [
    "#lists loop\n",
    "thislist = [\"apple\", \"banana\", \"cherry\"]\n",
    "for x in thislist:\n",
    "    print(x)\n",
    "\n",
    "for i in range(len(thislist)):\n",
    "    print(thislist[i])"
   ]
  },
  {
   "cell_type": "code",
   "execution_count": 27,
   "id": "d81a74ff-f825-46a5-bd8b-924f7c6ace55",
   "metadata": {},
   "outputs": [
    {
     "name": "stdout",
     "output_type": "stream",
     "text": [
      "['apple', 'banana']\n",
      "['APPLE', 'BANANA']\n",
      "['apple', 'banana', 'cherry']\n"
     ]
    }
   ],
   "source": [
    "#list comprihention\n",
    "fruits = [\"apple\", \"banana\", \"cherry\", \"kiwi\", \"mango\"]\n",
    "newlist = [x for x in thislist if \"a\" in x]\n",
    "\n",
    "print(newlist)\n",
    "\n",
    "upperlist = [x.upper() for x in newlist]\n",
    "print(upperlist)\n",
    "\n",
    "thislist.sort()\n",
    "print(thislist)"
   ]
  },
  {
   "cell_type": "code",
   "execution_count": null,
   "id": "aec47e3b-72f1-44f7-9272-e47b8aebe3f0",
   "metadata": {},
   "outputs": [],
   "source": []
  }
 ],
 "metadata": {
  "kernelspec": {
   "display_name": "Python [conda env:base] *",
   "language": "python",
   "name": "conda-base-py"
  },
  "language_info": {
   "codemirror_mode": {
    "name": "ipython",
    "version": 3
   },
   "file_extension": ".py",
   "mimetype": "text/x-python",
   "name": "python",
   "nbconvert_exporter": "python",
   "pygments_lexer": "ipython3",
   "version": "3.13.5"
  }
 },
 "nbformat": 4,
 "nbformat_minor": 5
}
