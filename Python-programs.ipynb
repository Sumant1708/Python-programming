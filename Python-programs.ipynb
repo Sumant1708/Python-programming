{
 "cells": [
  {
   "cell_type": "markdown",
   "id": "c39237ba-0cda-46c2-8c92-50fd59ba49d7",
   "metadata": {},
   "source": [
    "Q1 Write a python program to print \"hello python\""
   ]
  },
  {
   "cell_type": "code",
   "execution_count": 3,
   "id": "d91f2f3b-e1b2-4d19-a1ca-39e1910763c3",
   "metadata": {},
   "outputs": [
    {
     "name": "stdout",
     "output_type": "stream",
     "text": [
      "hello world\n"
     ]
    }
   ],
   "source": [
    "print(\"hello world\")"
   ]
  },
  {
   "cell_type": "markdown",
   "id": "d4638cc1-653f-4816-a9fa-59d5e2a2eb27",
   "metadata": {},
   "source": [
    "Q2 Write a python program to do arthematical operations addition and division.\n"
   ]
  },
  {
   "cell_type": "code",
   "execution_count": 4,
   "id": "b995ef36-2b08-45d2-88d7-1d160731eb12",
   "metadata": {},
   "outputs": [
    {
     "name": "stdin",
     "output_type": "stream",
     "text": [
      "Enter First number:  5\n",
      "Enter Second number:  9\n"
     ]
    },
    {
     "name": "stdout",
     "output_type": "stream",
     "text": [
      "sum: 5.0 + 9.0 = 14.0\n"
     ]
    }
   ],
   "source": [
    "#addition\n",
    "num1 = float(input(\"Enter First number: \"))\n",
    "num2 = float(input(\"Enter Second number: \"))\n",
    "sum_result = num1 + num2\n",
    "print(f\"sum: {num1} + {num2} = {sum_result}\")"
   ]
  },
  {
   "cell_type": "code",
   "execution_count": 5,
   "id": "eb9bfc60-80d9-4460-b18a-c0354b6733bd",
   "metadata": {},
   "outputs": [
    {
     "name": "stdin",
     "output_type": "stream",
     "text": [
      "Enter dividend:  14\n",
      "Enter the divisor:  7\n"
     ]
    },
    {
     "name": "stdout",
     "output_type": "stream",
     "text": [
      "Division = 14.0 / 7.0 = 2.0\n"
     ]
    }
   ],
   "source": [
    "#division\n",
    "num3 = float(input(\"Enter dividend: \"))\n",
    "num4 = float(input(\"Enter the divisor: \"))\n",
    "if num4 == 0:\n",
    "    print(\"Error: Divisor cannot be zero\")\n",
    "else:\n",
    "    div_result = num3 / num4\n",
    "    print(f\"Division = {num3} / {num4} = {div_result}\")"
   ]
  },
  {
   "cell_type": "markdown",
   "id": "77fea59a-fab8-4217-9bc5-1245e370de9e",
   "metadata": {},
   "source": [
    "Q3 Write a python program to find the area of a triangle"
   ]
  },
  {
   "cell_type": "code",
   "execution_count": 6,
   "id": "410c3e4c-94a4-475b-83bb-a4370af090e2",
   "metadata": {},
   "outputs": [
    {
     "name": "stdin",
     "output_type": "stream",
     "text": [
      "Enter the value of base:  3\n",
      "Enter the value of the height:  4\n"
     ]
    },
    {
     "name": "stdout",
     "output_type": "stream",
     "text": [
      "Area of the triangle is 6.0\n"
     ]
    }
   ],
   "source": [
    "base = float(input(\"Enter the value of base: \"))\n",
    "height = float(input(\"Enter the value of the height: \"))\n",
    "area = 0.5 *  height * base\n",
    "print(f\"Area of the triangle is {area}\")"
   ]
  },
  {
   "cell_type": "markdown",
   "id": "64a78252-e1e5-49e3-aff0-d95248a6517e",
   "metadata": {},
   "source": [
    "Q4 write a variable yo swap two variables"
   ]
  },
  {
   "cell_type": "code",
   "execution_count": 7,
   "id": "19a06cde-fc3d-4640-a37f-2b8c0f990a0c",
   "metadata": {},
   "outputs": [
    {
     "name": "stdin",
     "output_type": "stream",
     "text": [
      "Enter the value of a variable:  3\n",
      "Enter the value of b variavle:  7\n"
     ]
    },
    {
     "name": "stdout",
     "output_type": "stream",
     "text": [
      "Original variables- a= 3 and b= 7\n",
      "Values after swapping- a= 7, b= 3\n"
     ]
    }
   ],
   "source": [
    "a = input(\"Enter the value of a variable: \")\n",
    "b = input(\"Enter the value of b variavle: \")\n",
    "print(f\"Original variables- a= {a} and b= {b}\")\n",
    "temp = a\n",
    "a = b\n",
    "b = temp\n",
    "print(f\"Values after swapping- a= {a}, b= {b}\")"
   ]
  },
  {
   "cell_type": "markdown",
   "id": "c5324bed-59b9-4a33-bba3-28138230a103",
   "metadata": {},
   "source": [
    "Q5 Write a python program to generate a random number"
   ]
  },
  {
   "cell_type": "code",
   "execution_count": 16,
   "id": "ad1a80f1-b292-4007-9df9-b93f0bd54f46",
   "metadata": {},
   "outputs": [
    {
     "name": "stdout",
     "output_type": "stream",
     "text": [
      "Random number = 39\n"
     ]
    }
   ],
   "source": [
    "import random\n",
    "print(f\"Random number = {random.randint(1, 100)}\")"
   ]
  },
  {
   "cell_type": "markdown",
   "id": "a99208ac-ebfe-47e4-9cbf-5fff2cf1db8b",
   "metadata": {},
   "source": [
    "Q6 Write a python program to convert kilometers to miles"
   ]
  },
  {
   "cell_type": "code",
   "execution_count": 18,
   "id": "4c5ad568-9178-454d-af37-57447883c8b1",
   "metadata": {},
   "outputs": [
    {
     "name": "stdin",
     "output_type": "stream",
     "text": [
      "Enter the distance in kilometers:  10\n"
     ]
    },
    {
     "name": "stdout",
     "output_type": "stream",
     "text": [
      "10.0 kilometrs is equal to 6.21371 miles\n"
     ]
    }
   ],
   "source": [
    "kilometers = float(input(\"Enter the distance in kilometers: \"))\n",
    "conversion_factor = 0.621371\n",
    "miles = kilometers * conversion_factor\n",
    "print(f\"{kilometers} kilometrs is equal to {miles} miles\")"
   ]
  },
  {
   "cell_type": "markdown",
   "id": "c43686a1-498d-4c2d-8f37-702a262f622b",
   "metadata": {},
   "source": [
    "Q7 Write a python program to convert celsius to fahrenheit."
   ]
  },
  {
   "cell_type": "code",
   "execution_count": 19,
   "id": "566c59af-6882-4593-8ac3-23ddb4c9be83",
   "metadata": {},
   "outputs": [
    {
     "name": "stdin",
     "output_type": "stream",
     "text": [
      "Enter the temperature in celsius:  40\n"
     ]
    },
    {
     "name": "stdout",
     "output_type": "stream",
     "text": [
      "40.0 degrees celsius is equal to 104.0 degrees fahrenheit \n"
     ]
    }
   ],
   "source": [
    "celsius = float(input(\"Enter the temperature in celsius: \"))\n",
    "fahrenheit = (celsius * 9/5) + 32\n",
    "print(f\"{celsius} degrees celsius is equal to {fahrenheit} degrees fahrenheit \")"
   ]
  },
  {
   "cell_type": "markdown",
   "id": "f30897b9-f196-4fd5-864c-781ba116eb0c",
   "metadata": {},
   "source": [
    "Q8 Write a python program to display calender"
   ]
  },
  {
   "cell_type": "code",
   "execution_count": 24,
   "id": "ff99a334-9b00-43e8-8a85-796866dd9b72",
   "metadata": {},
   "outputs": [
    {
     "name": "stdin",
     "output_type": "stream",
     "text": [
      "Enter the year:  2003\n",
      "Enter the month:  8\n"
     ]
    },
    {
     "name": "stdout",
     "output_type": "stream",
     "text": [
      "    August 2003\n",
      "Mo Tu We Th Fr Sa Su\n",
      "             1  2  3\n",
      " 4  5  6  7  8  9 10\n",
      "11 12 13 14 15 16 17\n",
      "18 19 20 21 22 23 24\n",
      "25 26 27 28 29 30 31\n",
      "\n"
     ]
    }
   ],
   "source": [
    "import calendar\n",
    "year = int (input(\"Enter the year: \"))\n",
    "month = int(input(\"Enter the month: \"))\n",
    "cal = calendar.month(year, month)\n",
    "print(cal)"
   ]
  },
  {
   "cell_type": "markdown",
   "id": "025c265b-470d-4d28-89ef-5f255c0687df",
   "metadata": {},
   "source": [
    "Q9 Write a python program to solve quadratic equation"
   ]
  },
  {
   "cell_type": "code",
   "execution_count": 30,
   "id": "76ebc2b3-ef25-43e7-943b-7ff7a2904c1e",
   "metadata": {},
   "outputs": [
    {
     "name": "stdin",
     "output_type": "stream",
     "text": [
      "Enter coefficient a:  3\n",
      "Enter coefficient b:  6\n",
      "Enter coefficient c:  8\n"
     ]
    },
    {
     "name": "stdout",
     "output_type": "stream",
     "text": [
      "Root1 = -1.0 + 1.2909944487358056i\n",
      "Root2 = -1.0 - 1.2909944487358056i\n"
     ]
    }
   ],
   "source": [
    "import math\n",
    "a = float(input(\"Enter coefficient a: \"))\n",
    "b = float(input(\"Enter coefficient b: \"))\n",
    "c = float(input(\"Enter coefficient c: \"))\n",
    "disc = b**2 - 4*a*c\n",
    "\n",
    "if disc> 0:\n",
    "    root1 = (-b + math.sqrt(disc))/(2*a)\n",
    "    root2 = (-b - math.sqrt(disc))/(2*a)\n",
    "    print(f\"Values of roots are {root1} and {root2}\")\n",
    "elif disc == 0:\n",
    "    root = (-b)/(2*a)\n",
    "    print(f\"Root is {root}\")\n",
    "else:\n",
    "    real_part = (-b)/(2*a)\n",
    "    imaginary_part = math.sqrt(abs(disc))/(2*a)\n",
    "    print(f\"Root1 = {real_part} + {imaginary_part}i\")\n",
    "    print(f\"Root2 = {real_part} - {imaginary_part}i\")"
   ]
  },
  {
   "cell_type": "markdown",
   "id": "1bd3a875-7f3d-4d70-99d5-27168db33936",
   "metadata": {},
   "source": [
    "Q10 Write a python program to swap two variables without temp variable. "
   ]
  },
  {
   "cell_type": "code",
   "execution_count": 1,
   "id": "45936e81-4878-4390-b3f8-30c7419dd853",
   "metadata": {},
   "outputs": [
    {
     "name": "stdout",
     "output_type": "stream",
     "text": [
      "After swap, a = 8 and b = 5\n"
     ]
    }
   ],
   "source": [
    "a = 5\n",
    "b = 8\n",
    "a, b = b, a\n",
    "\n",
    "print(f\"After swap, a = {a} and b = {b}\")"
   ]
  },
  {
   "cell_type": "markdown",
   "id": "f7476574-f9ed-4d6c-bd4f-a61b2b4d57d9",
   "metadata": {},
   "source": [
    "Q11 Write a python program to check if a number is positive, negative or zero. "
   ]
  },
  {
   "cell_type": "code",
   "execution_count": 4,
   "id": "8ee26321-3d7f-4cc9-b8a1-0cc2d7653d00",
   "metadata": {},
   "outputs": [
    {
     "name": "stdin",
     "output_type": "stream",
     "text": [
      "Enter a number:  0\n"
     ]
    },
    {
     "name": "stdout",
     "output_type": "stream",
     "text": [
      "Number is Zero\n"
     ]
    }
   ],
   "source": [
    "num = float(input(\"Enter a number: \"))\n",
    "if num > 0:\n",
    "    print(\"NUmber is positive\")\n",
    "elif num < 0:\n",
    "    print(\"NUmber is negatve\")\n",
    "else:\n",
    "    print(\"Number is Zero\")"
   ]
  },
  {
   "cell_type": "markdown",
   "id": "23eaac86-6822-47a6-bf1a-261556d563d9",
   "metadata": {},
   "source": [
    "Q12 Write a python program to check if a number is odd or even."
   ]
  },
  {
   "cell_type": "code",
   "execution_count": 6,
   "id": "5b54f623-16ce-4a0d-9180-00d795f03448",
   "metadata": {},
   "outputs": [
    {
     "name": "stdin",
     "output_type": "stream",
     "text": [
      "Enter a number 2\n"
     ]
    },
    {
     "name": "stdout",
     "output_type": "stream",
     "text": [
      "Number is even\n"
     ]
    }
   ],
   "source": [
    "num = int(input(\"Enter a number\"))\n",
    "if num%2 == 0:\n",
    "    print(\"Number is even\")\n",
    "else:\n",
    "    print(\"Number is odd\")"
   ]
  },
  {
   "cell_type": "markdown",
   "id": "3c68958a-0a4f-4199-8533-89bf2592087d",
   "metadata": {},
   "source": [
    "Q13 Write a python program to check a leap year."
   ]
  },
  {
   "cell_type": "code",
   "execution_count": 10,
   "id": "0e9431b3-0e99-4e24-baf1-4db677ab00a7",
   "metadata": {},
   "outputs": [
    {
     "name": "stdin",
     "output_type": "stream",
     "text": [
      "Enter the year:  2100\n"
     ]
    },
    {
     "name": "stdout",
     "output_type": "stream",
     "text": [
      "not leap year\n"
     ]
    }
   ],
   "source": [
    "year = int(input(\"Enter the year: \"))\n",
    "\n",
    "if year%4 == 0 and year%100 != 0:\n",
    "    print(\"Leap year\")\n",
    "elif year%400 == 0:\n",
    "    print(\"leap year\")\n",
    "else:\n",
    "    print(\"not leap year\")"
   ]
  },
  {
   "cell_type": "markdown",
   "id": "c9101b15-5934-4af4-8431-83b6b93ee6af",
   "metadata": {},
   "source": [
    "Q14 Write a python program to check if  number is prime or not"
   ]
  },
  {
   "cell_type": "code",
   "execution_count": 23,
   "id": "270a2914-664d-48db-ac84-3c09ed9de57d",
   "metadata": {},
   "outputs": [
    {
     "name": "stdin",
     "output_type": "stream",
     "text": [
      "Enter a number:  2\n"
     ]
    },
    {
     "name": "stdout",
     "output_type": "stream",
     "text": [
      "number is prime\n"
     ]
    }
   ],
   "source": [
    "num = int(input(\"Enter a number: \"))\n",
    "flag = False\n",
    "for i in range(2, num):\n",
    "    if num%i ==0:\n",
    "        flag = True\n",
    "        break\n",
    "if flag == True:\n",
    "    print(\"Number is not prime\")\n",
    "else :\n",
    "    print(\"number is prime\")"
   ]
  },
  {
   "cell_type": "markdown",
   "id": "4d20ca6c-1174-4628-bcfe-8730a4a8f4c3",
   "metadata": {},
   "source": [
    "Q15 Write a python program to print all prime numbers in an interval of 1-10"
   ]
  },
  {
   "cell_type": "code",
   "execution_count": 22,
   "id": "6196c86c-3fa7-4135-94f5-e613bd1a66ef",
   "metadata": {},
   "outputs": [
    {
     "name": "stdout",
     "output_type": "stream",
     "text": [
      "Prime numbers between 1 and 10 are : \n",
      "2\n",
      "3\n",
      "5\n",
      "7\n"
     ]
    }
   ],
   "source": [
    "lower = 1\n",
    "upper = 10\n",
    "print(f\"Prime numbers between {lower} and {upper} are : \")\n",
    "\n",
    "for num in range(lower, upper + 1):\n",
    "    if num>1:\n",
    "        for i in range(2, num):\n",
    "            if (num % i) == 0:\n",
    "                break\n",
    "        else:\n",
    "            print(num)"
   ]
  },
  {
   "cell_type": "markdown",
   "id": "4fa3a304-adc1-4fac-9e78-50ce62d3609b",
   "metadata": {},
   "source": [
    "Q16 Write a python program to find the factorial of a number."
   ]
  },
  {
   "cell_type": "code",
   "execution_count": 30,
   "id": "88a89a89-2274-42d0-816b-ea951b0676a2",
   "metadata": {},
   "outputs": [
    {
     "name": "stdin",
     "output_type": "stream",
     "text": [
      "Enter a number:  3\n"
     ]
    },
    {
     "name": "stdout",
     "output_type": "stream",
     "text": [
      "Factorial of 3 is 6\n"
     ]
    }
   ],
   "source": [
    "num = int(input(\"Enter a number: \"))\n",
    "factorial = 1\n",
    "if num<0:\n",
    "    print(\"Factorial doesnt exist for negtive number\")\n",
    "elif num==0:\n",
    "    print(\"factorial is 1\")\n",
    "else:\n",
    "    for i in range(1, num + 1):\n",
    "        factorial = factorial * i\n",
    "    print(f\"Factorial of {num} is {factorial}\" )\n"
   ]
  },
  {
   "cell_type": "markdown",
   "id": "72d4908a-e1e7-4e31-99a3-56fac40104a8",
   "metadata": {},
   "source": [
    "Q17 Write a python program to display the multiplication table"
   ]
  },
  {
   "cell_type": "code",
   "execution_count": 31,
   "id": "275382a9-72b5-4bce-885f-2cbaa38cc320",
   "metadata": {},
   "outputs": [
    {
     "name": "stdin",
     "output_type": "stream",
     "text": [
      "Enter the number:  4\n"
     ]
    },
    {
     "name": "stdout",
     "output_type": "stream",
     "text": [
      "4 X 1 = 4\n",
      "4 X 2 = 8\n",
      "4 X 3 = 12\n",
      "4 X 4 = 16\n",
      "4 X 5 = 20\n",
      "4 X 6 = 24\n",
      "4 X 7 = 28\n",
      "4 X 8 = 32\n",
      "4 X 9 = 36\n",
      "4 X 10 = 40\n"
     ]
    }
   ],
   "source": [
    "num = int(input(\"Enter the number: \"))\n",
    "for i in range(1, 11):\n",
    "    print(f\"{num} X {i} = {num*i}\")\n",
    "    "
   ]
  },
  {
   "cell_type": "markdown",
   "id": "ecb17056-8d67-478b-ade4-228076f3ac63",
   "metadata": {},
   "source": [
    "Q18 Write a python program to print the fibonacci series "
   ]
  },
  {
   "cell_type": "code",
   "execution_count": 34,
   "id": "456a0cf4-73e1-4abb-89f3-d1cd4dc376dc",
   "metadata": {},
   "outputs": [
    {
     "name": "stdin",
     "output_type": "stream",
     "text": [
      "Enter the terms:  4\n"
     ]
    },
    {
     "name": "stdout",
     "output_type": "stream",
     "text": [
      "fibonacci series: \n",
      "0\n",
      "1\n",
      "1\n",
      "2\n"
     ]
    }
   ],
   "source": [
    "nterm = int(input(\"Enter the terms: \"))\n",
    "n1, n2 = 0, 1\n",
    "count = 0\n",
    "\n",
    "if nterm <= 0:\n",
    "    print(\"Enter positive terms\")\n",
    "elif nterm == 1:\n",
    "    print(f\"fibonacci series is {n1}\")\n",
    "else:\n",
    "    print(\"fibonacci series: \")\n",
    "    while count < nterm:\n",
    "        print(n1)\n",
    "        nth = n1 + n2\n",
    "        n1 = n2\n",
    "        n2 = nth\n",
    "        count += 1\n",
    "    "
   ]
  },
  {
   "cell_type": "markdown",
   "id": "1c956dde-73b2-44df-a4ff-a9b68926e3ec",
   "metadata": {},
   "source": [
    "Q19 Write a python program to check armstrong number"
   ]
  },
  {
   "cell_type": "code",
   "execution_count": 9,
   "id": "7ec3efbf-2977-4a96-a91e-e91b59934ee9",
   "metadata": {},
   "outputs": [
    {
     "name": "stdin",
     "output_type": "stream",
     "text": [
      "Enter a number:  135\n"
     ]
    },
    {
     "name": "stdout",
     "output_type": "stream",
     "text": [
      "the number is not an armstrong number\n"
     ]
    }
   ],
   "source": [
    "num = int(input(\"Enter a number: \"))\n",
    "num_str = str(num)\n",
    "num_dig = len(num_str)\n",
    "\n",
    "sum_of_powers = 0\n",
    "temp_num = num\n",
    "\n",
    "while temp_num > 0:\n",
    "    digit = temp_num%10\n",
    "    sum_of_powers += digit**num_dig\n",
    "    temp_num//=10\n",
    "if sum_of_powers == num:\n",
    "    print(\"The number is armstrong number\")\n",
    "else:\n",
    "    print(\"the number is not an armstrong number\")"
   ]
  },
  {
   "cell_type": "markdown",
   "id": "2ed83f06-cca8-4536-9bf6-5f42e3071d38",
   "metadata": {},
   "source": [
    "Q20 Write a python program to find armstrong number in an interval"
   ]
  },
  {
   "cell_type": "code",
   "execution_count": 13,
   "id": "ce552fcb-69c2-4bfe-97e3-87e6c035e7c7",
   "metadata": {},
   "outputs": [
    {
     "name": "stdin",
     "output_type": "stream",
     "text": [
      "Enter the lower limit of an interval:  10\n",
      "Enter the upper limit of an interval:  1000\n"
     ]
    },
    {
     "name": "stdout",
     "output_type": "stream",
     "text": [
      "The Armstrong numbers are: \n",
      "153\n",
      "370\n",
      "371\n",
      "407\n"
     ]
    }
   ],
   "source": [
    "lower = int(input(\"Enter the lower limit of an interval: \"))\n",
    "upper = int(input(\"Enter the upper limit of an interval: \"))\n",
    "print(\"The Armstrong numbers are: \")\n",
    "\n",
    "\n",
    "for num in range(lower, upper+1):\n",
    "    num_str = str(num)\n",
    "    num_digit = len(num_str)\n",
    "    sum_of_power = 0\n",
    "    temp_num = num\n",
    "    while temp_num > 0:\n",
    "        digit = temp_num%10\n",
    "        sum_of_power += digit**num_digit\n",
    "        temp_num//=10\n",
    "    if sum_of_power == num:\n",
    "        print(num)\n",
    "    "
   ]
  },
  {
   "cell_type": "markdown",
   "id": "afb6fee3-3762-4433-b466-a45b3d6ad013",
   "metadata": {},
   "source": [
    "Q21 Write a python program to print sum of natural numbers"
   ]
  },
  {
   "cell_type": "code",
   "execution_count": 16,
   "id": "3fe7defb-e037-4f54-b986-a6a2f7997662",
   "metadata": {},
   "outputs": [
    {
     "name": "stdin",
     "output_type": "stream",
     "text": [
      "Enter the limit upto sum of natural number needed:  10\n"
     ]
    },
    {
     "name": "stdout",
     "output_type": "stream",
     "text": [
      "The sum of natural number upto 10 is 55\n"
     ]
    }
   ],
   "source": [
    "limit = int(input(\"Enter the limit upto sum of natural number needed: \"))\n",
    "sum = 0\n",
    "for i in range(1, limit+1):\n",
    "    sum +=i\n",
    "print(f\"The sum of natural number upto {limit} is {sum}\")"
   ]
  },
  {
   "cell_type": "markdown",
   "id": "a3d95714-ea1b-4341-a955-2ddfde4aa300",
   "metadata": {},
   "source": [
    "Q22 Write a python program to find lcm"
   ]
  },
  {
   "cell_type": "code",
   "execution_count": null,
   "id": "f9db48b1-fa04-43e4-aa7f-c0da4757c176",
   "metadata": {},
   "outputs": [],
   "source": []
  }
 ],
 "metadata": {
  "kernelspec": {
   "display_name": "Python [conda env:base] *",
   "language": "python",
   "name": "conda-base-py"
  },
  "language_info": {
   "codemirror_mode": {
    "name": "ipython",
    "version": 3
   },
   "file_extension": ".py",
   "mimetype": "text/x-python",
   "name": "python",
   "nbconvert_exporter": "python",
   "pygments_lexer": "ipython3",
   "version": "3.13.5"
  }
 },
 "nbformat": 4,
 "nbformat_minor": 5
}
